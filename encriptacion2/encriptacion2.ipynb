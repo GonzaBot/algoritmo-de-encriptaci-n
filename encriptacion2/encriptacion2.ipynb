{
  "nbformat": 4,
  "nbformat_minor": 0,
  "metadata": {
    "colab": {
      "provenance": []
    },
    "kernelspec": {
      "name": "python3",
      "display_name": "Python 3"
    },
    "language_info": {
      "name": "python"
    }
  },
  "cells": [
    {
      "cell_type": "code",
      "execution_count": null,
      "metadata": {
        "id": "eaHYVdg4ukFG"
      },
      "outputs": [],
      "source": [
        "import re"
      ]
    },
    {
      "cell_type": "markdown",
      "source": [
        "ENCRIPTACION"
      ],
      "metadata": {
        "id": "TBN7QdmYjoms"
      }
    },
    {
      "cell_type": "markdown",
      "source": [
        "funcion para contar letras y agregar en una string"
      ],
      "metadata": {
        "id": "JHH4jrIJwZMz"
      }
    },
    {
      "cell_type": "code",
      "source": [
        "def contar_letras_y_formar_string(texto):\n",
        "    # Dividir el texto en palabras\n",
        "    palabras = texto.split()\n",
        "    # Crear una lista para almacenar las nuevas palabras con sus conteos\n",
        "    resultado = []\n",
        "\n",
        "    # Iterar sobre cada palabra\n",
        "    for palabra in palabras:\n",
        "        # Contar el número de letras y formar la nueva palabra\n",
        "        conteo = len(palabra)\n",
        "        resultado.append(f\"{conteo}{palabra}\")\n",
        "\n",
        "    # Unir las palabras sin espacios\n",
        "    return ''.join(resultado)"
      ],
      "metadata": {
        "id": "ruRWg7a3vJky"
      },
      "execution_count": null,
      "outputs": []
    },
    {
      "cell_type": "code",
      "source": [
        "# Ejemplo de uso\n",
        "mi_texto = \"NA MINHA MAQUINA FUNCIONA\"\n",
        "nueva_cadena = contar_letras_y_formar_string(mi_texto)\n",
        "\n",
        "print(nueva_cadena)"
      ],
      "metadata": {
        "colab": {
          "base_uri": "https://localhost:8080/"
        },
        "id": "4Lcdao5ywYL0",
        "outputId": "488cd9b3-0414-4534-d28b-6f7225ec5422"
      },
      "execution_count": null,
      "outputs": [
        {
          "output_type": "stream",
          "name": "stdout",
          "text": [
            "2NA5MINHA7MAQUINA8FUNCIONA\n"
          ]
        }
      ]
    },
    {
      "cell_type": "markdown",
      "source": [
        "funcion de cambiar las letras y los numeros por su respectivo en el alfabeto"
      ],
      "metadata": {
        "id": "3N0CVU8vxzyV"
      }
    },
    {
      "cell_type": "code",
      "source": [
        "def cambiar_caracteres(texto):\n",
        "    resultado = []\n",
        "\n",
        "    for char in texto:\n",
        "        if char.isalpha():  # Si es una letra\n",
        "            # Convertir la letra a su posición en el alfabeto (A=1, B=2, ..., Z=26)\n",
        "            posicion = ord(char.upper()) - ord('A') + 1\n",
        "\n",
        "            # Formatear el número a dos dígitos\n",
        "            resultado.append(f\"{posicion:02}\")  # Usa formato de cadena para dos dígitos\n",
        "        elif char.isdigit():  # Si es un número\n",
        "            # Convertir el número a su letra correspondiente en mayúscula\n",
        "            letra = chr(int(char) + ord('A') - 1)\n",
        "            resultado.append(letra)\n",
        "        else:\n",
        "            # Mantener cualquier otro carácter sin cambios\n",
        "            resultado.append(char)\n",
        "\n",
        "    return ''.join(resultado)\n"
      ],
      "metadata": {
        "id": "GIHLsQFCxzWu"
      },
      "execution_count": null,
      "outputs": []
    },
    {
      "cell_type": "code",
      "source": [
        "nueva_cadena2 = cambiar_caracteres(nueva_cadena)\n",
        "\n",
        "print(nueva_cadena2)"
      ],
      "metadata": {
        "colab": {
          "base_uri": "https://localhost:8080/"
        },
        "id": "g3NZbM-zyKTK",
        "outputId": "5e932099-0019-4922-bebc-f8b7708d09d8"
      },
      "execution_count": null,
      "outputs": [
        {
          "output_type": "stream",
          "name": "stdout",
          "text": [
            "B1401E1309140801G13011721091401H0621140309151401\n"
          ]
        }
      ]
    },
    {
      "cell_type": "markdown",
      "source": [
        "PASO 4"
      ],
      "metadata": {
        "id": "-NVew01Qd5u1"
      }
    },
    {
      "cell_type": "code",
      "source": [
        "def invert_numbers_for_even_letter_positions(input_string):\n",
        "    import string\n",
        "\n",
        "    # Crear un diccionario con la posición de cada letra en el alfabeto inglés\n",
        "    alphabet = string.ascii_uppercase\n",
        "    letter_position = {letter: i+1 for i, letter in enumerate(alphabet)}\n",
        "\n",
        "    output_string = \"\"\n",
        "    i = 0\n",
        "\n",
        "    while i < len(input_string):\n",
        "        char = input_string[i]\n",
        "\n",
        "        if char.isalpha() and letter_position[char] % 2 == 0:\n",
        "            # Encontramos una letra con posición par\n",
        "            j = i + 1\n",
        "            num_sequence = \"\"\n",
        "\n",
        "            # Agarrar la secuencia de números que sigue a la letra\n",
        "            while j < len(input_string) and input_string[j].isdigit():\n",
        "                num_sequence += input_string[j]\n",
        "                j += 1\n",
        "\n",
        "            # Invertir la secuencia de números y añadir la letra\n",
        "            output_string += char + num_sequence[::-1]\n",
        "            i = j\n",
        "        else:\n",
        "            # No es una letra con posición par, la agregamos tal cual\n",
        "            output_string += char\n",
        "            i += 1\n",
        "\n",
        "    return output_string"
      ],
      "metadata": {
        "id": "7CAFVLUgy9sI"
      },
      "execution_count": null,
      "outputs": []
    },
    {
      "cell_type": "code",
      "source": [
        "\n",
        "nueva_cadena3 = invert_numbers_for_even_letter_positions(nueva_cadena2)\n",
        "print(nueva_cadena3)"
      ],
      "metadata": {
        "colab": {
          "base_uri": "https://localhost:8080/"
        },
        "id": "hUaKS6d80aBE",
        "outputId": "c1c6214c-efaf-4161-9a0b-4f5395d471ca"
      },
      "execution_count": null,
      "outputs": [
        {
          "output_type": "stream",
          "name": "stdout",
          "text": [
            "B1041E1309140801G13011721091401H1041519030411260\n"
          ]
        }
      ]
    },
    {
      "cell_type": "markdown",
      "source": [
        "paso 5"
      ],
      "metadata": {
        "id": "zY6n90q4foKm"
      }
    },
    {
      "cell_type": "code",
      "source": [
        "def reorganizar_letras(texto):\n",
        "    # Usar expresiones regulares para encontrar todas las letras\n",
        "    letras = re.findall(r'[A-Z]', texto)\n",
        "\n",
        "    # Asegurarse de que hay al menos dos letras\n",
        "    if len(letras) < 2:\n",
        "        raise ValueError(\"El texto debe contener al menos dos letras\")\n",
        "\n",
        "    # Tomar las primeras dos letras y el resto\n",
        "    primeras_dos = letras[:2]\n",
        "    resto_letras = letras[2:]\n",
        "\n",
        "    # Remover las letras del texto para dejar solo los números\n",
        "    texto_sin_letras = re.sub(r'[A-Z]', '', texto)\n",
        "\n",
        "    # Formar el nuevo texto con las dos primeras letras al inicio y el resto al final\n",
        "    nuevo_texto = f\"{''.join(primeras_dos)}{texto_sin_letras}{''.join(resto_letras)}\"\n",
        "\n",
        "    return nuevo_texto"
      ],
      "metadata": {
        "id": "SHyVr45_fppx"
      },
      "execution_count": null,
      "outputs": []
    },
    {
      "cell_type": "code",
      "source": [
        "nueva_cadena4 = reorganizar_letras(nueva_cadena3)\n",
        "print(nueva_cadena4)"
      ],
      "metadata": {
        "colab": {
          "base_uri": "https://localhost:8080/"
        },
        "id": "zTlgf73aftnt",
        "outputId": "2ba7ab8d-e168-47ff-9148-2bdc0caa0fff"
      },
      "execution_count": null,
      "outputs": [
        {
          "output_type": "stream",
          "name": "stdout",
          "text": [
            "BE10411309140801130117210914011041519030411260GH\n"
          ]
        }
      ]
    },
    {
      "cell_type": "markdown",
      "source": [
        "PASO 6"
      ],
      "metadata": {
        "id": "4kOVc6X-hnrD"
      }
    },
    {
      "cell_type": "code",
      "source": [
        "def sumar_con_llave(texto, llave):\n",
        "    caracteres_en_llave = len(llave)\n",
        "    primera_letra_llave = llave[0]\n",
        "\n",
        "    # Expresión regular para encontrar pares de números en la cadena\n",
        "    pares_numeros = re.findall(r'\\d{2}', texto)\n",
        "\n",
        "    resultado = []\n",
        "    indice = 0\n",
        "\n",
        "    for par in pares_numeros:\n",
        "        # Convertir el par a número entero\n",
        "        num = int(par)\n",
        "        # Sumar el número de caracteres de la llave\n",
        "        suma = num + caracteres_en_llave\n",
        "\n",
        "        if suma > 99:\n",
        "            # Si la suma excede 99, usar la primera letra de la llave para la centena y el resto del número\n",
        "            centena = primera_letra_llave\n",
        "            decenas_unidades = suma - 100\n",
        "            # Formatear como \"M01\", \"M11\", etc.\n",
        "            resultado.append(f\"{centena}{decenas_unidades:02d}\")\n",
        "        else:\n",
        "            # Si no excede 99, solo agregar el número con dos dígitos\n",
        "            resultado.append(f\"{suma:02d}\")\n",
        "\n",
        "        indice += 2\n",
        "\n",
        "    # Reemplazar los pares de números en el texto original con los resultados\n",
        "    texto_modificado = re.sub(r'\\d{2}', lambda _: resultado.pop(0), texto)\n",
        "\n",
        "    return texto_modificado"
      ],
      "metadata": {
        "id": "SmWP-ANffxX1"
      },
      "execution_count": null,
      "outputs": []
    },
    {
      "cell_type": "code",
      "source": [
        "llave = \"MONSTERHIGH\"\n",
        "nueva_cadena5 = sumar_con_llave(nueva_cadena4, llave)\n",
        "print(nueva_cadena5)"
      ],
      "metadata": {
        "colab": {
          "base_uri": "https://localhost:8080/"
        },
        "id": "3KNKsUo4hst_",
        "outputId": "71dca03a-4a9e-4517-e58d-e5dae992ed1f"
      },
      "execution_count": null,
      "outputs": [
        {
          "output_type": "stream",
          "name": "stdout",
          "text": [
            "BE2152242025191224122832202512215262M0141522371GH\n"
          ]
        }
      ]
    },
    {
      "cell_type": "markdown",
      "source": [
        "DECRIPTACION"
      ],
      "metadata": {
        "id": "5rhnzlAngJsR"
      }
    },
    {
      "cell_type": "code",
      "source": [
        "def procesar_cadena(cadena, llave):\n",
        "    # Calcular el tamaño de la llave\n",
        "    tamano_llave = len(llave)\n",
        "\n",
        "    # Cadena resultante\n",
        "    cadena_resultante = \"\"\n",
        "\n",
        "    # Usar un índice para recorrer la cadena\n",
        "    i = 0\n",
        "    while i < len(cadena):\n",
        "        dupla = cadena[i:i+2]\n",
        "\n",
        "        if dupla[0] == 'M':\n",
        "            # Si encontramos 'M', debemos ver el siguiente número\n",
        "            if i + 2 < len(cadena) and cadena[i + 1:i + 3].isdigit():\n",
        "                valor = 100 + int(cadena[i + 1:i + 3])  # Sumar 100 al siguiente número\n",
        "                cadena_resultante += str(valor - tamano_llave).zfill(2)  # Restar tamaño de la llave\n",
        "                i += 3  # Saltar la 'M' y la dupla siguiente\n",
        "            else:\n",
        "                # Solo 'M' sin siguiente número\n",
        "                cadena_resultante += '00'  # Definir un valor por defecto\n",
        "                i += 1\n",
        "        elif dupla.isdigit():\n",
        "            # Convertir la dupla a entero y restar el tamaño de la llave\n",
        "            valor = int(dupla)\n",
        "            cadena_resultante += str(valor - tamano_llave).zfill(2)  # Asegurarse de que tenga 2 dígitos\n",
        "            i += 2  # Mover el índice dos pasos\n",
        "        else:\n",
        "            # Si es cualquier otra letra, la añadimos sin cambios\n",
        "            cadena_resultante += dupla\n",
        "            i += 2  # Mover el índice dos pasos\n",
        "\n",
        "    return cadena_resultante"
      ],
      "metadata": {
        "id": "hhw8WQfsjsH7"
      },
      "execution_count": null,
      "outputs": []
    },
    {
      "cell_type": "code",
      "source": [
        "# Información proporcionada\n",
        "cadena = \"BE2152242025191224122832202512215262M0141522371GH\"\n",
        "llave = \"MONSTERHIGH\"\n",
        "\n",
        "# Procesar la cadena\n",
        "resultado = procesar_cadena(cadena, llave)\n",
        "\n",
        "# Mostrar el resultado\n",
        "print(resultado)"
      ],
      "metadata": {
        "id": "Qtz6RVRhjs5u",
        "colab": {
          "base_uri": "https://localhost:8080/"
        },
        "outputId": "a2369870-6ccc-4c0d-a238-6aa0c04b8c4f"
      },
      "execution_count": null,
      "outputs": [
        {
          "output_type": "stream",
          "name": "stdout",
          "text": [
            "BE10411309140801130117210914011041519030411260GH\n"
          ]
        }
      ]
    },
    {
      "cell_type": "code",
      "source": [
        "def transformar_string(cadena, frase):\n",
        "    # Función para convertir una palabra en su longitud y obtener el índice alfabético\n",
        "    def longitudes_a_indices(frase):\n",
        "        return [len(palabra) for palabra in frase.split()]\n",
        "\n",
        "    # Convertir longitudes en sus respectivos números en el alfabeto\n",
        "    longitudes = longitudes_a_indices(frase)\n",
        "    indices = [l for l in longitudes]  # Longitudes son los desplazamientos directos\n",
        "\n",
        "    # Realizar la transformación de la cadena\n",
        "    resultado = []\n",
        "    for j in range(len(cadena)):\n",
        "        if j == 0:\n",
        "            resultado.append(cadena[j])  # La primera letra no se mueve\n",
        "        else:\n",
        "            # Determinar el desplazamiento basado en la longitud de las palabras\n",
        "            desplazamiento = 0\n",
        "            palabra_index = 0\n",
        "\n",
        "            while palabra_index < len(indices) and j > sum(indices[:palabra_index + 1]):\n",
        "                palabra_index += 1\n",
        "\n",
        "            if palabra_index < len(indices):\n",
        "                desplazamiento = indices[palabra_index]\n",
        "\n",
        "            nueva_pos = (j + desplazamiento) % len(cadena)\n",
        "            resultado.append(cadena[nueva_pos])\n",
        "\n",
        "    return ''.join(resultado)\n"
      ],
      "metadata": {
        "id": "arw4dWZPjtlk"
      },
      "execution_count": null,
      "outputs": []
    },
    {
      "cell_type": "code",
      "source": [
        "# Datos de entrada\n",
        "cadena = \"BE10411309140801130117210914011041519030411260GH\"\n",
        "frase = \"NA MINHA MAQUINA FUNCIONA\"\n",
        "\n",
        "# Llamar a la función\n",
        "resultado = transformar_string(cadena, frase)\n",
        "print(resultado)"
      ],
      "metadata": {
        "id": "XPX0tBgQjua1",
        "colab": {
          "base_uri": "https://localhost:8080/"
        },
        "outputId": "367d2716-5be4-4952-f680-2fc5eb7b6d44"
      },
      "execution_count": null,
      "outputs": [
        {
          "output_type": "stream",
          "name": "stdout",
          "text": [
            "B040914011301171091401110914011041519030411260GH\n"
          ]
        }
      ]
    },
    {
      "cell_type": "code",
      "source": [],
      "metadata": {
        "id": "kj8T6rabjvrN"
      },
      "execution_count": null,
      "outputs": []
    },
    {
      "cell_type": "code",
      "source": [],
      "metadata": {
        "colab": {
          "base_uri": "https://localhost:8080/"
        },
        "id": "PuKwrEuCjvJR",
        "outputId": "a983cbf8-964d-4be5-9061-a50c0cd0024b"
      },
      "execution_count": null,
      "outputs": [
        {
          "output_type": "stream",
          "name": "stdout",
          "text": [
            "Advertencia: El número resultante para el par '02' es negativo (-9). Se establecerá a 0.\n",
            "FBAADCIAEAD@AAC@AAGB@@AD@AACIADH@AAD@A\n"
          ]
        }
      ]
    }
  ]
}